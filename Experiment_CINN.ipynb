{
 "cells": [
  {
   "cell_type": "code",
   "execution_count": 7,
   "id": "d8489643-40f7-4b9f-9b9f-20a6e5e34c53",
   "metadata": {},
   "outputs": [],
   "source": [
    "import nni\n",
    "# from pathlib import Path\n",
    "from nni.experiment import Experiment"
   ]
  },
  {
  
   "cell_type": "code",
   "execution_count": 9,
   "id": "33c766ff-d6d8-44ea-9691-6138c0705224",
   "metadata": {},
   "outputs": [],
   "source": [
    "# Search space for NNI to find the best model \n",
    "search_space = {\n",
    "    \"modify_weights\": {\"_type\": \"choice\", \"_value\": [1]},\n",
    "    \"lambda_1\": {\"_type\": \"choice\", \"_value\": [0, 0.01,]},\n",
    "    \"act_func\": {\"_type\": \"choice\", \"_value\": [\"Tanh\",\"Sigmoid\",\"ReLU\",\"LeakyReLU\",\"Softplus\"]},\n",
    "    \"hidden_layer_number\": {\"_type\": \"choice\", \"_value\": [1,2]},\n",
    "    \"optimizer\": {\"_type\": \"choice\", \"_value\": [\"Adam\"]},\n",
    "    \"layer_size\": {\"_type\": \"choice\", \"_value\": [16,32,64]},\n",
    "    \"learning_rate\": {\"_type\": \"choice\", \"_value\": [0.00001, ,0.01,0.05]},\n",
    "    \"dropout_rate\": {\"_type\": \"choice\", \"_value\": [0.0, 0.1, 0.2]}\n",
    "}"
   ]
  },
  {
   "cell_type": "code",
   "execution_count": 35,
   "id": "301fa3ac-fb86-48b5-ae39-b209ee95d8d7",
   "metadata": {},
   "outputs": [
    {
     "name": "stdout",
     "output_type": "stream",
     "text": [
      "[2025-06-12 22:03:26] \u001b[32mCreating experiment, Experiment ID: \u001b[36m3rnph8ec\u001b[0m\n",
      "[2025-06-12 22:03:26] \u001b[32mStarting web server...\u001b[0m\n",
      "[2025-06-12 22:03:27] \u001b[32mSetting up...\u001b[0m\n",
      "[2025-06-12 22:03:27] \u001b[32mWeb portal URLs: \u001b[36mhttp://169.254.74.193:8081 http://169.254.190.0:8081 http://169.254.226.49:8081 http://10.101.32.142:8081 http://127.0.0.1:8081\u001b[0m\n"
     ]
    }
   ],
   "source": [
    "experiment = Experiment('local')\n",
    "experiment.config.experiment_name = \"CINN_GIT\"\n",
    "experiment.config.trial_concurrency = 6 # Increase this number upto hundreds experiments can run in parrallel\n",
    "experiment.config.search_space = search_space\n",
    "experiment.config.trial_code_directory = './'\n",
    "experiment.config.max_trial_number = 10000\n",
    "experiment.config.max_experiment_duration = '24h'\n",
    "experiment.config.trial_command = 'python3 CINN_GIT.py'\n",
    "experiment.config.training_service.use_active_gpu = True\n",
    "experiment.config.tuner.name = 'GridSearch'\n",
    "experiment.start(8081, debug = True)"
   ]
  },
  {
   "cell_type": "code",
   "execution_count": 30,
   "id": "bfe4e034-19a5-4577-a5b0-ee16127c16b4",
   "metadata": {},
   "outputs": [
    {
     "ename": "RuntimeError",
     "evalue": "Experiment is not running",
     "output_type": "error",
     "traceback": [
      "\u001b[1;31m---------------------------------------------------------------------------\u001b[0m",
      "\u001b[1;31mRuntimeError\u001b[0m                              Traceback (most recent call last)",
      "Cell \u001b[1;32mIn[30], line 1\u001b[0m\n\u001b[1;32m----> 1\u001b[0m \u001b[43mexperiment\u001b[49m\u001b[38;5;241;43m.\u001b[39;49m\u001b[43mget_status\u001b[49m\u001b[43m(\u001b[49m\u001b[43m)\u001b[49m\n",
      "File \u001b[1;32m~\\.conda\\envs\\CINN_2\\lib\\site-packages\\nni\\experiment\\experiment.py:413\u001b[0m, in \u001b[0;36mExperiment.get_status\u001b[1;34m(self)\u001b[0m\n\u001b[0;32m    404\u001b[0m \u001b[38;5;28;01mdef\u001b[39;00m \u001b[38;5;21mget_status\u001b[39m(\u001b[38;5;28mself\u001b[39m) \u001b[38;5;241m-\u001b[39m\u001b[38;5;241m>\u001b[39m \u001b[38;5;28mstr\u001b[39m:\n\u001b[0;32m    405\u001b[0m \u001b[38;5;250m    \u001b[39m\u001b[38;5;124;03m\"\"\"\u001b[39;00m\n\u001b[0;32m    406\u001b[0m \u001b[38;5;124;03m    Return experiment status as a str.\u001b[39;00m\n\u001b[0;32m    407\u001b[0m \n\u001b[1;32m   (...)\u001b[0m\n\u001b[0;32m    411\u001b[0m \u001b[38;5;124;03m        Experiment status.\u001b[39;00m\n\u001b[0;32m    412\u001b[0m \u001b[38;5;124;03m    \"\"\"\u001b[39;00m\n\u001b[1;32m--> 413\u001b[0m     resp \u001b[38;5;241m=\u001b[39m \u001b[43mrest\u001b[49m\u001b[38;5;241;43m.\u001b[39;49m\u001b[43mget\u001b[49m\u001b[43m(\u001b[49m\u001b[38;5;28;43mself\u001b[39;49m\u001b[38;5;241;43m.\u001b[39;49m\u001b[43mport\u001b[49m\u001b[43m,\u001b[49m\u001b[43m \u001b[49m\u001b[38;5;124;43m'\u001b[39;49m\u001b[38;5;124;43m/check-status\u001b[39;49m\u001b[38;5;124;43m'\u001b[39;49m\u001b[43m,\u001b[49m\u001b[43m \u001b[49m\u001b[38;5;28;43mself\u001b[39;49m\u001b[38;5;241;43m.\u001b[39;49m\u001b[43murl_prefix\u001b[49m\u001b[43m)\u001b[49m\n\u001b[0;32m    414\u001b[0m     \u001b[38;5;28;01mreturn\u001b[39;00m resp[\u001b[38;5;124m'\u001b[39m\u001b[38;5;124mstatus\u001b[39m\u001b[38;5;124m'\u001b[39m]\n",
      "File \u001b[1;32m~\\.conda\\envs\\CINN_2\\lib\\site-packages\\nni\\experiment\\rest.py:43\u001b[0m, in \u001b[0;36mget\u001b[1;34m(port, api, prefix)\u001b[0m\n\u001b[0;32m     42\u001b[0m \u001b[38;5;28;01mdef\u001b[39;00m \u001b[38;5;21mget\u001b[39m(port: Optional[\u001b[38;5;28mint\u001b[39m], api: \u001b[38;5;28mstr\u001b[39m, prefix: Optional[\u001b[38;5;28mstr\u001b[39m] \u001b[38;5;241m=\u001b[39m \u001b[38;5;28;01mNone\u001b[39;00m) \u001b[38;5;241m-\u001b[39m\u001b[38;5;241m>\u001b[39m Any:\n\u001b[1;32m---> 43\u001b[0m     \u001b[38;5;28;01mreturn\u001b[39;00m \u001b[43mrequest\u001b[49m\u001b[43m(\u001b[49m\u001b[38;5;124;43m'\u001b[39;49m\u001b[38;5;124;43mget\u001b[39;49m\u001b[38;5;124;43m'\u001b[39;49m\u001b[43m,\u001b[49m\u001b[43m \u001b[49m\u001b[43mport\u001b[49m\u001b[43m,\u001b[49m\u001b[43m \u001b[49m\u001b[43mapi\u001b[49m\u001b[43m,\u001b[49m\u001b[43m \u001b[49m\u001b[43mprefix\u001b[49m\u001b[38;5;241;43m=\u001b[39;49m\u001b[43mprefix\u001b[49m\u001b[43m)\u001b[49m\n",
      "File \u001b[1;32m~\\.conda\\envs\\CINN_2\\lib\\site-packages\\nni\\experiment\\rest.py:20\u001b[0m, in \u001b[0;36mrequest\u001b[1;34m(method, port, api, data, prefix)\u001b[0m\n\u001b[0;32m     18\u001b[0m \u001b[38;5;28;01mdef\u001b[39;00m \u001b[38;5;21mrequest\u001b[39m(method: \u001b[38;5;28mstr\u001b[39m, port: Optional[\u001b[38;5;28mint\u001b[39m], api: \u001b[38;5;28mstr\u001b[39m, data: Any \u001b[38;5;241m=\u001b[39m \u001b[38;5;28;01mNone\u001b[39;00m, prefix: Optional[\u001b[38;5;28mstr\u001b[39m] \u001b[38;5;241m=\u001b[39m \u001b[38;5;28;01mNone\u001b[39;00m) \u001b[38;5;241m-\u001b[39m\u001b[38;5;241m>\u001b[39m Any:\n\u001b[0;32m     19\u001b[0m     \u001b[38;5;28;01mif\u001b[39;00m port \u001b[38;5;129;01mis\u001b[39;00m \u001b[38;5;28;01mNone\u001b[39;00m:\n\u001b[1;32m---> 20\u001b[0m         \u001b[38;5;28;01mraise\u001b[39;00m \u001b[38;5;167;01mRuntimeError\u001b[39;00m(\u001b[38;5;124m'\u001b[39m\u001b[38;5;124mExperiment is not running\u001b[39m\u001b[38;5;124m'\u001b[39m)\n\u001b[0;32m     22\u001b[0m     url_parts \u001b[38;5;241m=\u001b[39m [\n\u001b[0;32m     23\u001b[0m         \u001b[38;5;124mf\u001b[39m\u001b[38;5;124m'\u001b[39m\u001b[38;5;124mhttp://localhost:\u001b[39m\u001b[38;5;132;01m{\u001b[39;00mport\u001b[38;5;132;01m}\u001b[39;00m\u001b[38;5;124m'\u001b[39m,\n\u001b[0;32m     24\u001b[0m         prefix,\n\u001b[0;32m     25\u001b[0m         \u001b[38;5;124m'\u001b[39m\u001b[38;5;124mapi/v1/nni\u001b[39m\u001b[38;5;124m'\u001b[39m,\n\u001b[0;32m     26\u001b[0m         api\n\u001b[0;32m     27\u001b[0m     ]\n\u001b[0;32m     28\u001b[0m     url \u001b[38;5;241m=\u001b[39m \u001b[38;5;124m'\u001b[39m\u001b[38;5;124m/\u001b[39m\u001b[38;5;124m'\u001b[39m\u001b[38;5;241m.\u001b[39mjoin(part\u001b[38;5;241m.\u001b[39mstrip(\u001b[38;5;124m'\u001b[39m\u001b[38;5;124m/\u001b[39m\u001b[38;5;124m'\u001b[39m) \u001b[38;5;28;01mfor\u001b[39;00m part \u001b[38;5;129;01min\u001b[39;00m url_parts \u001b[38;5;28;01mif\u001b[39;00m part)\n",
      "\u001b[1;31mRuntimeError\u001b[0m: Experiment is not running"
     ]
    }
   ],
   "source": [
    "experiment.get_status()"
   ]
  },
  {
   "cell_type": "code",
   "execution_count": null,
   "id": "20e0caea-20de-4822-878c-97f0823d1855",
   "metadata": {},
   "outputs": [
    {
     "name": "stdout",
     "output_type": "stream",
     "text": [
      "[2025-06-12 22:03:58] \u001b[32mStopping experiment, please wait...\u001b[0m\n",
      "[2025-06-12 22:03:58] \u001b[32mSaving experiment checkpoint...\u001b[0m\n",
      "[2025-06-12 22:03:58] \u001b[32mStopping NNI manager, if any...\u001b[0m\n",
      "[2025-06-12 22:04:02] \u001b[32mExperiment stopped.\u001b[0m\n"
     ]
    }
   ],
   "source": [
    "experiment.stop()"
   ]
  },
  {
     "cell_type": "code",
   "execution_count": null,
   "id": "313b0225-a4cd-470a-a345-7bef04ab961e",
   "metadata": {},
   "outputs": [],
   "source": []
  }
 ],
 "metadata": {
  "kernelspec": {
   "display_name": "Python 3 (ipykernel)",
   "language": "python",
   "name": "python3"
  },
  "language_info": {
   "codemirror_mode": {
    "name": "ipython",
    "version": 3
   },
   "file_extension": ".py",
   "mimetype": "text/x-python",
   "name": "python",
   "nbconvert_exporter": "python",
   "pygments_lexer": "ipython3",
   "version": "3.10.16"
  }
 },
 "nbformat": 4,
 "nbformat_minor": 5
}
